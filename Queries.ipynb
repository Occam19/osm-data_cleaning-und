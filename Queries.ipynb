{
 "cells": [
  {
   "cell_type": "code",
   "execution_count": 3,
   "metadata": {},
   "outputs": [
    {
     "name": "stdout",
     "output_type": "stream",
     "text": [
      "(u'muslim', 591)\n",
      "(u'christian', 245)\n",
      "(u'buddhist', 106)\n",
      "(u'hindu', 23)\n",
      "(u'taoist', 11)\n",
      "(u'jewish', 4)\n",
      "(u'sikh', 4)\n",
      "(u'shinto', 1)\n"
     ]
    }
   ],
   "source": [
    "#!/usr/bin/env python\n",
    "# -*- coding: utf-8 -*-\n",
    "\n",
    "###################\n",
    "### SQL QUERIES ###\n",
    "###################\n",
    "import sqlite3\n",
    "\n",
    "sqlite3_filename = 'SingaporeMap2.db'\n",
    "connection = sqlite3.connect(sqlite3_filename)\n",
    "cursor = connection.cursor()\n",
    "\n",
    "#Finds the streets with the most OSM objects connected to it.\n",
    "query = \"SELECT tags.value, COUNT(*) \\\n",
    "         FROM (SELECT * FROM nodes_tags UNION ALL SELECT * FROM ways_tags) AS tags \\\n",
    "         WHERE type = 'addr' and key = 'street' \\\n",
    "         GROUP BY tags.value ORDER BY COUNT(*) DESC LIMIT 10;\"\n",
    "#Popular tourist venues\n",
    "queryA = \"SELECT tags.value, COUNT(*) FROM (SELECT * FROM nodes_tags UNION ALL SELECT * FROM ways_tags) AS tags \\\n",
    "         WHERE type = 'regular' and key = 'tourism' GROUP BY tags.value ORDER BY COUNT(*) DESC;\"\n",
    "#coffee vs tea! - 131 tea, 124 coffee!\n",
    "queryB = \"SELECT COUNT(*) FROM (SELECT * FROM nodes_tags UNION ALL SELECT * FROM ways_tags) AS tags \\\n",
    "         WHERE type = 'regular' AND key = 'name' AND tags.value LIKE '% coffee %';\"\n",
    "queryC = \"SELECT tags.value, COUNT(*) FROM (SELECT * FROM nodes_tags UNION ALL SELECT * FROM ways_tags) AS tags \\\n",
    "         WHERE type = 'regular' AND key = 'name' AND tags.value LIKE '% tea %' \\\n",
    "         GROUP BY tags.value ORDER BY COUNT(*) DESC;\"\n",
    "#What are the most popular OSM 'objects' created by users? buildings and highways as it turns out\n",
    "query1 = \"SELECT tags.key, COUNT(*) FROM (SELECT * FROM nodes_tags UNION ALL SELECT * FROM ways_tags) AS tags \\\n",
    "          WHERE type = 'regular' GROUP BY tags.key ORDER BY COUNT(*) DESC\"\n",
    "#most popular non-regular objects (addr, seamarks)\n",
    "query2 = \"SELECT tags.type, COUNT(*) FROM (SELECT * FROM nodes_tags UNION ALL SELECT * FROM ways_tags) AS tags \\\n",
    "          GROUP BY tags.type ORDER BY COUNT(*) DESC\"\n",
    "#City name-likes in the data\n",
    "query3 = (\"SELECT tags.value, COUNT(*) as count \"\n",
    "          \"FROM (SELECT * FROM nodes_tags UNION ALL SELECT * FROM ways_tags) tags \"\n",
    "          \"WHERE tags.key LIKE '%city%' \"\n",
    "          \"GROUP BY tags.value \"\n",
    "          \"ORDER BY count DESC \"\n",
    "          \"LIMIT 5;\")\n",
    "#All 'cuisines', 'leisure', 'religion'\n",
    "query5 = (\"SELECT tags.value, COUNT(*) as count \"\n",
    "          \"FROM (SELECT * FROM nodes_tags UNION ALL SELECT * FROM ways_tags) AS tags \"\n",
    "          \"WHERE key = 'religion' GROUP BY tags.value \\\n",
    "          ORDER BY count DESC LIMIT 10;\"\n",
    ")\n",
    "\n",
    "for val, row in enumerate(cursor.execute(query5)):\n",
    "    print row\n",
    "\n",
    "connection.close()"
   ]
  }
 ],
 "metadata": {
  "kernelspec": {
   "display_name": "Python [conda env:DAND]",
   "language": "python",
   "name": "conda-env-DAND-py"
  },
  "language_info": {
   "codemirror_mode": {
    "name": "ipython",
    "version": 2
   },
   "file_extension": ".py",
   "mimetype": "text/x-python",
   "name": "python",
   "nbconvert_exporter": "python",
   "pygments_lexer": "ipython2",
   "version": "2.7.13"
  }
 },
 "nbformat": 4,
 "nbformat_minor": 2
}
